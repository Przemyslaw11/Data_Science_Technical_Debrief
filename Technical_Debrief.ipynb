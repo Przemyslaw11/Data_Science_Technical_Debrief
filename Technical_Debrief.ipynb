{
 "cells": [
  {
   "cell_type": "code",
   "execution_count": 130,
   "metadata": {},
   "outputs": [
    {
     "name": "stdout",
     "output_type": "stream",
     "text": [
      "     employee_id  memory  processing  storage  inverse_price utilization_bin\n",
      "0           1743    0.38        0.23     0.15           0.25            high\n",
      "1           1752    0.45        0.23     0.08           0.25            high\n",
      "2           1758    0.38        0.30     0.08           0.25            high\n",
      "3           1825    0.30        0.30     0.15           0.25            high\n",
      "4           1842    0.30        0.30     0.15           0.25            high\n",
      "..           ...     ...         ...      ...            ...             ...\n",
      "141         1463    0.23        0.15     0.38           0.25             low\n",
      "142         1625    0.23        0.15     0.38           0.25             low\n",
      "143         1377    0.15        0.23     0.38           0.25             low\n",
      "144         1353    0.15        0.23     0.38           0.25             low\n",
      "145         1229    0.15        0.15     0.45           0.25             low\n",
      "\n",
      "[146 rows x 6 columns]\n"
     ]
    },
    {
     "data": {
      "image/png": "[encoded data removed]",
      "text/plain": [
       "<Figure size 432x288 with 1 Axes>"
      ]
     },
     "metadata": {
      "needs_background": "light"
     },
     "output_type": "display_data"
    },
    {
     "data": {
      "image/png": "[encoded data removed]",
      "text/plain": [
       "<Figure size 432x288 with 1 Axes>"
      ]
     },
     "metadata": {
      "needs_background": "light"
     },
     "output_type": "display_data"
    },
    {
     "data": {
      "image/png": "[encoded data removed]",
      "text/plain": [
       "<Figure size 432x288 with 1 Axes>"
      ]
     },
     "metadata": {
      "needs_background": "light"
     },
     "output_type": "display_data"
    }
   ],
   "source": [
    "import matplotlib.pyplot as plt\n",
    "import pandas as pd\n",
    "import numpy as np\n",
    "import random\n",
    "\n",
    "df_utilization = pd.read_csv(\"util_b_emp.csv\", sep=';') \n",
    "df_survey_emp= pd.read_csv(\"survey_emp.csv\",  sep=';') \n",
    "df_vendor_opt= pd.read_csv(\"vendor_options.csv\", sep =';') \n",
    "\n",
    "# Join utilization_bin to the df_survey \n",
    "df_survey = pd.merge(df_survey_emp, df_utilization,on ='employee_id')\n",
    "print(df_survey)\n",
    "# Draw box plots    \n",
    "for utilization_bin, sub_df in df_survey.groupby('utilization_bin'):\n",
    "    plt.figure(random.randint(1,10^6))\n",
    "    plt.boxplot(sub_df.drop(['employee_id', 'utilization_bin', 'inverse_price'], axis = 1).values,\n",
    "                 labels = sub_df.drop(['employee_id', 'utilization_bin', 'inverse_price'], axis = 1).columns)\n",
    "    plt.title(f'{utilization_bin}')"
   ]
  },
  {
   "cell_type": "code",
   "execution_count": 131,
   "metadata": {},
   "outputs": [
    {
     "data": {
      "image/png": "[encoded data removed]",
      "text/plain": [
       "<Figure size 432x288 with 1 Axes>"
      ]
     },
     "metadata": {
      "needs_background": "light"
     },
     "output_type": "display_data"
    }
   ],
   "source": [
    "# Count how many users is in every utilization bin\n",
    "high_users = df_utilization['utilization_bin'].str.count('high').sum()\n",
    "medium_users = df_utilization['utilization_bin'].str.count('medium').sum()\n",
    "low_users = df_utilization['utilization_bin'].str.count('low').sum()\n",
    "\n",
    "# Bar plot with utilization distribution\n",
    "plt.bar(['low', 'medium', 'high'],[low_users, medium_users, high_users])\n",
    "\n",
    "# Adding title to the Plot\n",
    "plt.title(\"Employee distribution\")\n",
    " \n",
    "# Setting the X and Y labels\n",
    "plt.xlabel('Utilization')\n",
    "plt.ylabel('Number of users')\n",
    " \n",
    "plt.show()\n"
   ]
  },
  {
   "cell_type": "code",
   "execution_count": 132,
   "metadata": {},
   "outputs": [
    {
     "name": "stdout",
     "output_type": "stream",
     "text": [
      "    memory  processing  storage  inverse_price\n",
      "0        5           7       10            2.7\n",
      "1        9           8        9            1.3\n",
      "2        8           9       10            1.0\n",
      "3        8           8        9            1.7\n",
      "4        5           4        4            5.7\n",
      "5        6           7        7            3.3\n",
      "6        7          10        7            2.0\n",
      "7        9           6        9            2.0\n",
      "8        9           8        7            2.0\n",
      "9        7           7        9            2.3\n",
      "10       8           9       10            1.0\n",
      "      memory  processing   storage  inverse_price\n",
      "0   0.200967    0.273931  0.356462       0.312730\n",
      "1   0.361741    0.313064  0.320815       0.150574\n",
      "2   0.321547    0.352197  0.356462       0.115826\n",
      "3   0.321547    0.313064  0.320815       0.196904\n",
      "4   0.200967    0.156532  0.142585       0.660207\n",
      "5   0.241160    0.273931  0.249523       0.382225\n",
      "6   0.281354    0.391330  0.249523       0.231652\n",
      "7   0.361741    0.234798  0.320815       0.231652\n",
      "8   0.361741    0.313064  0.249523       0.231652\n",
      "9   0.281354    0.273931  0.320815       0.266399\n",
      "10  0.321547    0.352197  0.356462       0.115826\n",
      "     memory  processing  storage  inverse_price\n",
      "0      0.38        0.23     0.15           0.25\n",
      "1      0.45        0.23     0.08           0.25\n",
      "2      0.38        0.30     0.08           0.25\n",
      "3      0.30        0.30     0.15           0.25\n",
      "4      0.30        0.30     0.15           0.25\n",
      "..      ...         ...      ...            ...\n",
      "141    0.23        0.15     0.38           0.25\n",
      "142    0.23        0.15     0.38           0.25\n",
      "143    0.15        0.23     0.38           0.25\n",
      "144    0.15        0.23     0.38           0.25\n",
      "145    0.15        0.15     0.45           0.25\n",
      "\n",
      "[146 rows x 4 columns]\n"
     ]
    }
   ],
   "source": [
    "df_vendor_values = df_vendor_opt.drop(['computer_id'], axis = 1)\n",
    "print(df_vendor_values)\n",
    "# Normalize values\n",
    "# First Case: by length of the vector (L2 normalization) - Better\n",
    "df_vendor_values = df_vendor_values/np.sqrt(np.square(df_vendor_values).sum())\n",
    "\n",
    "# Second Case: by maximum value\n",
    "#df_vendor_values = df_vendor_opt/df_vendor_opt.max()\n",
    "#df_vendor_values['inverse_price'] = df_vendor_opt['inverse_price']/df_vendor_opt['inverse_price'].max()\n",
    "\n",
    "df_survey_values = df_survey_emp.drop(['employee_id'], axis = 1) \n",
    "\n",
    "print(df_vendor_values)\n",
    "print(df_survey_values)\n"
   ]
  },
  {
   "cell_type": "code",
   "execution_count": 133,
   "metadata": {},
   "outputs": [
    {
     "data": {
      "image/png": "[encoded data removed]",
      "text/plain": [
       "<PIL.PngImagePlugin.PngImageFile image mode=RGB size=1184x236 at 0x1997CB30B80>"
      ]
     },
     "metadata": {},
     "output_type": "display_data"
    }
   ],
   "source": [
    "from IPython.display import display\n",
    "from PIL import Image\n",
    "\n",
    "path=\"./results/Weighted_sum.png\"\n",
    "display(Image.open(path))\n",
    "\n",
    "# Score every computer for each user\n",
    "scores_tab = []\n",
    "for _, survey_row in df_survey_values.iterrows():\n",
    "    for _, vendor_row in df_vendor_values.iterrows(): \n",
    "        sum = 0 \n",
    "        for param_idx in range(0,4): \n",
    "                sum += survey_row[param_idx]*vendor_row[param_idx]  \n",
    "        scores_tab.append(sum)"
   ]
  },
  {
   "cell_type": "code",
   "execution_count": 134,
   "metadata": {},
   "outputs": [],
   "source": [
    "# Assign computer_scores for each user\n",
    "final_values = np.reshape(scores_tab, (146,11))\n",
    "# For each user find the highest value (the best suitable computer)\n",
    "top_computers_tab = []\n",
    "for user_id in range(0,145): \n",
    "    local_maximum = max(final_values[user_id])\n",
    "    local_maximum_index = np.where(final_values[user_id] == local_maximum)\n",
    "    maximum_position = list(local_maximum_index[0])\n",
    "    top_computers_tab.extend(maximum_position)\n",
    "\n",
    "\n",
    "    # In case we would like to equalize or favour specific utilization_bin\n",
    "    # if df_survey['utilization_bin'][user_id]=='low': \n",
    "    #     for low_user in range(0, 4):\n",
    "    #         top_computers_tab.extend(maximum_position)\n",
    "    # elif df_survey['utilization_bin'][user_id]=='medium':\n",
    "    #     for medium_user in range(0, 1):\n",
    "    #         top_computers_tab.extend(maximum_position)\n",
    "    # else:  \n",
    "    #     for high_user in range(0, 2):\n",
    "    #         top_computers_tab.extend(maximum_position)\n"
   ]
  },
  {
   "cell_type": "code",
   "execution_count": 135,
   "metadata": {},
   "outputs": [
    {
     "name": "stdout",
     "output_type": "stream",
     "text": [
      "    computer_id  memory  processing  storage  inverse_price\n",
      "3             1       8           8        9            1.7\n",
      "5             2       6           7        7            3.3\n",
      "4             3       5           4        4            5.7\n",
      "2             4       8           9       10            1.0\n",
      "9             7       7           7        9            2.3\n",
      "7             8       9           6        9            2.0\n",
      "8             9       9           8        7            2.0\n",
      "10           12       8           9       10            1.0\n",
      "0            13       5           7       10            2.7\n",
      "1            16       9           8        9            1.3\n",
      "6            20       7          10        7            2.0\n"
     ]
    }
   ],
   "source": [
    "from collections import Counter    \n",
    "\n",
    "# Change index to 'computer_id'\n",
    "vendor_id_tab = []\n",
    "for user_computer_id in top_computers_tab:\n",
    "    vendor_id_tab.append(int(df_vendor_opt.iloc[user_computer_id]['computer_id']))\n",
    "\n",
    "# Count preferences of users for each computer\n",
    "freq = Counter(vendor_id_tab)\n",
    "print(df_vendor_opt.sort_values(by = 'computer_id'))"
   ]
  },
  {
   "cell_type": "code",
   "execution_count": 136,
   "metadata": {},
   "outputs": [
    {
     "data": {
      "image/png": "[encoded data removed]",
      "text/plain": [
       "<Figure size 432x288 with 1 Axes>"
      ]
     },
     "metadata": {},
     "output_type": "display_data"
    }
   ],
   "source": [
    "# Make Pie Chart for the results\n",
    "\n",
    "labels = freq.keys()\n",
    "sizes = freq.values()\n",
    "\n",
    "fig, ax = plt.subplots()\n",
    "ax.pie(sizes, labels=labels,  autopct='%1.1f%%',  pctdistance=1.25, labeldistance=.6, textprops={'color':'white'})\n",
    "\n",
    "# Adding Title to the Plot\n",
    "plt.title(\"Computer to purchase\", color='yellow')\n",
    "\n",
    "plt.show()"
   ]
  },
  {
   "cell_type": "code",
   "execution_count": 137,
   "metadata": {},
   "outputs": [
    {
     "data": {
      "text/html": [
       "<style type=\"text/css\">\n",
       "#T_fec80_row6_col0, #T_fec80_row6_col1, #T_fec80_row6_col2, #T_fec80_row6_col3, #T_fec80_row6_col4, #T_fec80_row8_col0, #T_fec80_row8_col1, #T_fec80_row8_col2, #T_fec80_row8_col3, #T_fec80_row8_col4, #T_fec80_row10_col0, #T_fec80_row10_col1, #T_fec80_row10_col2, #T_fec80_row10_col3, #T_fec80_row10_col4 {\n",
       "  background: green;\n",
       "}\n",
       "</style>\n",
       "<table id=\"T_fec80\">\n",
       "  <thead>\n",
       "    <tr>\n",
       "      <th class=\"blank level0\" >&nbsp;</th>\n",
       "      <th id=\"T_fec80_level0_col0\" class=\"col_heading level0 col0\" >computer_id</th>\n",
       "      <th id=\"T_fec80_level0_col1\" class=\"col_heading level0 col1\" >memory</th>\n",
       "      <th id=\"T_fec80_level0_col2\" class=\"col_heading level0 col2\" >processing</th>\n",
       "      <th id=\"T_fec80_level0_col3\" class=\"col_heading level0 col3\" >storage</th>\n",
       "      <th id=\"T_fec80_level0_col4\" class=\"col_heading level0 col4\" >inverse_price</th>\n",
       "    </tr>\n",
       "  </thead>\n",
       "  <tbody>\n",
       "    <tr>\n",
       "      <th id=\"T_fec80_level0_row0\" class=\"row_heading level0 row0\" >3</th>\n",
       "      <td id=\"T_fec80_row0_col0\" class=\"data row0 col0\" >1</td>\n",
       "      <td id=\"T_fec80_row0_col1\" class=\"data row0 col1\" >8</td>\n",
       "      <td id=\"T_fec80_row0_col2\" class=\"data row0 col2\" >8</td>\n",
       "      <td id=\"T_fec80_row0_col3\" class=\"data row0 col3\" >9</td>\n",
       "      <td id=\"T_fec80_row0_col4\" class=\"data row0 col4\" >1.700000</td>\n",
       "    </tr>\n",
       "    <tr>\n",
       "      <th id=\"T_fec80_level0_row1\" class=\"row_heading level0 row1\" >5</th>\n",
       "      <td id=\"T_fec80_row1_col0\" class=\"data row1 col0\" >2</td>\n",
       "      <td id=\"T_fec80_row1_col1\" class=\"data row1 col1\" >6</td>\n",
       "      <td id=\"T_fec80_row1_col2\" class=\"data row1 col2\" >7</td>\n",
       "      <td id=\"T_fec80_row1_col3\" class=\"data row1 col3\" >7</td>\n",
       "      <td id=\"T_fec80_row1_col4\" class=\"data row1 col4\" >3.300000</td>\n",
       "    </tr>\n",
       "    <tr>\n",
       "      <th id=\"T_fec80_level0_row2\" class=\"row_heading level0 row2\" >4</th>\n",
       "      <td id=\"T_fec80_row2_col0\" class=\"data row2 col0\" >3</td>\n",
       "      <td id=\"T_fec80_row2_col1\" class=\"data row2 col1\" >5</td>\n",
       "      <td id=\"T_fec80_row2_col2\" class=\"data row2 col2\" >4</td>\n",
       "      <td id=\"T_fec80_row2_col3\" class=\"data row2 col3\" >4</td>\n",
       "      <td id=\"T_fec80_row2_col4\" class=\"data row2 col4\" >5.700000</td>\n",
       "    </tr>\n",
       "    <tr>\n",
       "      <th id=\"T_fec80_level0_row3\" class=\"row_heading level0 row3\" >2</th>\n",
       "      <td id=\"T_fec80_row3_col0\" class=\"data row3 col0\" >4</td>\n",
       "      <td id=\"T_fec80_row3_col1\" class=\"data row3 col1\" >8</td>\n",
       "      <td id=\"T_fec80_row3_col2\" class=\"data row3 col2\" >9</td>\n",
       "      <td id=\"T_fec80_row3_col3\" class=\"data row3 col3\" >10</td>\n",
       "      <td id=\"T_fec80_row3_col4\" class=\"data row3 col4\" >1.000000</td>\n",
       "    </tr>\n",
       "    <tr>\n",
       "      <th id=\"T_fec80_level0_row4\" class=\"row_heading level0 row4\" >9</th>\n",
       "      <td id=\"T_fec80_row4_col0\" class=\"data row4 col0\" >7</td>\n",
       "      <td id=\"T_fec80_row4_col1\" class=\"data row4 col1\" >7</td>\n",
       "      <td id=\"T_fec80_row4_col2\" class=\"data row4 col2\" >7</td>\n",
       "      <td id=\"T_fec80_row4_col3\" class=\"data row4 col3\" >9</td>\n",
       "      <td id=\"T_fec80_row4_col4\" class=\"data row4 col4\" >2.300000</td>\n",
       "    </tr>\n",
       "    <tr>\n",
       "      <th id=\"T_fec80_level0_row5\" class=\"row_heading level0 row5\" >7</th>\n",
       "      <td id=\"T_fec80_row5_col0\" class=\"data row5 col0\" >8</td>\n",
       "      <td id=\"T_fec80_row5_col1\" class=\"data row5 col1\" >9</td>\n",
       "      <td id=\"T_fec80_row5_col2\" class=\"data row5 col2\" >6</td>\n",
       "      <td id=\"T_fec80_row5_col3\" class=\"data row5 col3\" >9</td>\n",
       "      <td id=\"T_fec80_row5_col4\" class=\"data row5 col4\" >2.000000</td>\n",
       "    </tr>\n",
       "    <tr>\n",
       "      <th id=\"T_fec80_level0_row6\" class=\"row_heading level0 row6\" >8</th>\n",
       "      <td id=\"T_fec80_row6_col0\" class=\"data row6 col0\" >9</td>\n",
       "      <td id=\"T_fec80_row6_col1\" class=\"data row6 col1\" >9</td>\n",
       "      <td id=\"T_fec80_row6_col2\" class=\"data row6 col2\" >8</td>\n",
       "      <td id=\"T_fec80_row6_col3\" class=\"data row6 col3\" >7</td>\n",
       "      <td id=\"T_fec80_row6_col4\" class=\"data row6 col4\" >2.000000</td>\n",
       "    </tr>\n",
       "    <tr>\n",
       "      <th id=\"T_fec80_level0_row7\" class=\"row_heading level0 row7\" >10</th>\n",
       "      <td id=\"T_fec80_row7_col0\" class=\"data row7 col0\" >12</td>\n",
       "      <td id=\"T_fec80_row7_col1\" class=\"data row7 col1\" >8</td>\n",
       "      <td id=\"T_fec80_row7_col2\" class=\"data row7 col2\" >9</td>\n",
       "      <td id=\"T_fec80_row7_col3\" class=\"data row7 col3\" >10</td>\n",
       "      <td id=\"T_fec80_row7_col4\" class=\"data row7 col4\" >1.000000</td>\n",
       "    </tr>\n",
       "    <tr>\n",
       "      <th id=\"T_fec80_level0_row8\" class=\"row_heading level0 row8\" >0</th>\n",
       "      <td id=\"T_fec80_row8_col0\" class=\"data row8 col0\" >13</td>\n",
       "      <td id=\"T_fec80_row8_col1\" class=\"data row8 col1\" >5</td>\n",
       "      <td id=\"T_fec80_row8_col2\" class=\"data row8 col2\" >7</td>\n",
       "      <td id=\"T_fec80_row8_col3\" class=\"data row8 col3\" >10</td>\n",
       "      <td id=\"T_fec80_row8_col4\" class=\"data row8 col4\" >2.700000</td>\n",
       "    </tr>\n",
       "    <tr>\n",
       "      <th id=\"T_fec80_level0_row9\" class=\"row_heading level0 row9\" >1</th>\n",
       "      <td id=\"T_fec80_row9_col0\" class=\"data row9 col0\" >16</td>\n",
       "      <td id=\"T_fec80_row9_col1\" class=\"data row9 col1\" >9</td>\n",
       "      <td id=\"T_fec80_row9_col2\" class=\"data row9 col2\" >8</td>\n",
       "      <td id=\"T_fec80_row9_col3\" class=\"data row9 col3\" >9</td>\n",
       "      <td id=\"T_fec80_row9_col4\" class=\"data row9 col4\" >1.300000</td>\n",
       "    </tr>\n",
       "    <tr>\n",
       "      <th id=\"T_fec80_level0_row10\" class=\"row_heading level0 row10\" >6</th>\n",
       "      <td id=\"T_fec80_row10_col0\" class=\"data row10 col0\" >20</td>\n",
       "      <td id=\"T_fec80_row10_col1\" class=\"data row10 col1\" >7</td>\n",
       "      <td id=\"T_fec80_row10_col2\" class=\"data row10 col2\" >10</td>\n",
       "      <td id=\"T_fec80_row10_col3\" class=\"data row10 col3\" >7</td>\n",
       "      <td id=\"T_fec80_row10_col4\" class=\"data row10 col4\" >2.000000</td>\n",
       "    </tr>\n",
       "  </tbody>\n",
       "</table>\n"
      ],
      "text/plain": [
       "<pandas.io.formats.style.Styler at 0x1997d1c0ee0>"
      ]
     },
     "execution_count": 137,
     "metadata": {},
     "output_type": "execute_result"
    }
   ],
   "source": [
    "# Mark the most suitable computers\n",
    "suitable_computers = list(set(top_computers_tab))\n",
    "df_vendor_opt.sort_values(by='computer_id').style \\\n",
    ".apply(lambda x: ['background: green' if i in suitable_computers else '' for i,_ in x.iteritems()])"
   ]
  }
 ],
 "metadata": {
  "kernelspec": {
   "display_name": "Python 3 (ipykernel)",
   "language": "python",
   "name": "python3"
  },
  "language_info": {
   "codemirror_mode": {
    "name": "ipython",
    "version": 3
   },
   "file_extension": ".py",
   "mimetype": "text/x-python",
   "name": "python",
   "nbconvert_exporter": "python",
   "pygments_lexer": "ipython3",
   "version": "3.9.12"
  },
  "orig_nbformat": 4,
  "vscode": {
   "interpreter": {
    "hash": "8bff31e5cad221f22cc6467ebc7d7babd8f8bd21126b3a6df2bc0576813e9d64"
   }
  }
 },
 "nbformat": 4,
 "nbformat_minor": 2
}
